{
  "nbformat": 4,
  "nbformat_minor": 0,
  "metadata": {
    "colab": {
      "provenance": []
    },
    "kernelspec": {
      "name": "python3",
      "display_name": "Python 3"
    },
    "language_info": {
      "name": "python"
    }
  },
  "cells": [
    {
      "cell_type": "code",
      "execution_count": 2,
      "metadata": {
        "colab": {
          "base_uri": "https://localhost:8080/"
        },
        "id": "kab-e8spA7Lp",
        "outputId": "c67a8782-c089-451f-c87a-f48cf9f807d8"
      },
      "outputs": [
        {
          "output_type": "stream",
          "name": "stdout",
          "text": [
            "             category  rating label  \\\n",
            "0  Home_and_Kitchen_5     5.0    CG   \n",
            "1  Home_and_Kitchen_5     5.0    CG   \n",
            "2  Home_and_Kitchen_5     5.0    CG   \n",
            "3  Home_and_Kitchen_5     1.0    CG   \n",
            "4  Home_and_Kitchen_5     5.0    CG   \n",
            "\n",
            "                                               text_  \n",
            "0  Love this!  Well made, sturdy, and very comfor...  \n",
            "1  love it, a great upgrade from the original.  I...  \n",
            "2  This pillow saved my back. I love the look and...  \n",
            "3  Missing information on how to use it, but it i...  \n",
            "4  Very nice set. Good quality. We have had the s...  \n"
          ]
        }
      ],
      "source": [
        "import pandas as pd\n",
        "\n",
        "# load CSV file with python engine to handle potential parsing issues\n",
        "df = pd.read_csv(\"/content/fake reviews dataset.csv\", engine='python', on_bad_lines='skip')\n",
        "\n",
        "# see first 5 rows\n",
        "print(df.head())"
      ]
    },
    {
      "cell_type": "code",
      "source": [
        "import pandas as pd\n",
        "import re\n",
        "import nltk\n",
        "from nltk.corpus import stopwords\n",
        "from nltk.stem import WordNetLemmatizer\n",
        "\n",
        "# download resources (only once)\n",
        "nltk.download('stopwords')\n",
        "nltk.download('wordnet')\n"
      ],
      "metadata": {
        "colab": {
          "base_uri": "https://localhost:8080/"
        },
        "id": "NyL4XzHVBUn0",
        "outputId": "13bd9799-e17e-42ed-91c3-6f2abcf53c43"
      },
      "execution_count": 3,
      "outputs": [
        {
          "output_type": "stream",
          "name": "stderr",
          "text": [
            "[nltk_data] Downloading package stopwords to /root/nltk_data...\n",
            "[nltk_data]   Unzipping corpora/stopwords.zip.\n",
            "[nltk_data] Downloading package wordnet to /root/nltk_data...\n"
          ]
        },
        {
          "output_type": "execute_result",
          "data": {
            "text/plain": [
              "True"
            ]
          },
          "metadata": {},
          "execution_count": 3
        }
      ]
    },
    {
      "cell_type": "code",
      "source": [
        "stop_words = set(stopwords.words('english'))\n",
        "lemmatizer = WordNetLemmatizer()\n",
        "\n",
        "def clean_text(text):\n",
        "    if not isinstance(text, str):   # handle missing values\n",
        "        return \"\"\n",
        "    text = text.lower()                             # lowercase\n",
        "    text = re.sub(r'http\\S+|www\\S+', '', text)      # remove URLs\n",
        "    text = re.sub(r'[^a-z\\s]', ' ', text)           # remove numbers/punctuation\n",
        "    tokens = text.split()                           # tokenize\n",
        "    tokens = [t for t in tokens if t not in stop_words]  # remove stopwords\n",
        "    tokens = [lemmatizer.lemmatize(t) for t in tokens]   # lemmatize\n",
        "    return \" \".join(tokens)\n"
      ],
      "metadata": {
        "id": "2lCPI_YEBrjt"
      },
      "execution_count": 5,
      "outputs": []
    },
    {
      "cell_type": "code",
      "source": [
        "df['clean_review'] = df['text_'].apply(clean_text)\n",
        "print(df[['text_', 'clean_review']].head())"
      ],
      "metadata": {
        "colab": {
          "base_uri": "https://localhost:8080/"
        },
        "id": "qbNgktQbBw2z",
        "outputId": "280e3f40-3803-45bf-d157-1c8e9322fb05"
      },
      "execution_count": 7,
      "outputs": [
        {
          "output_type": "stream",
          "name": "stdout",
          "text": [
            "                                               text_  \\\n",
            "0  Love this!  Well made, sturdy, and very comfor...   \n",
            "1  love it, a great upgrade from the original.  I...   \n",
            "2  This pillow saved my back. I love the look and...   \n",
            "3  Missing information on how to use it, but it i...   \n",
            "4  Very nice set. Good quality. We have had the s...   \n",
            "\n",
            "                                    clean_review  \n",
            "0  love well made sturdy comfortable love pretty  \n",
            "1   love great upgrade original mine couple year  \n",
            "2        pillow saved back love look feel pillow  \n",
            "3    missing information use great product price  \n",
            "4            nice set good quality set two month  \n"
          ]
        }
      ]
    },
    {
      "cell_type": "code",
      "source": [
        "df['label_enc'] = df['label'].map({'CG':0, 'OR':1})\n",
        "print(df[['clean_review', 'label_enc']].head())\n",
        "print(df.isnull().sum())   # check for missing values"
      ],
      "metadata": {
        "colab": {
          "base_uri": "https://localhost:8080/"
        },
        "id": "uUi0nuSPCAM2",
        "outputId": "1caef74d-d641-43dc-ae3f-62c8a3c11f03"
      },
      "execution_count": 14,
      "outputs": [
        {
          "output_type": "stream",
          "name": "stdout",
          "text": [
            "                                    clean_review  label_enc\n",
            "0  love well made sturdy comfortable love pretty          0\n",
            "1   love great upgrade original mine couple year          0\n",
            "2        pillow saved back love look feel pillow          0\n",
            "3    missing information use great product price          0\n",
            "4            nice set good quality set two month          0\n",
            "category        0\n",
            "rating          0\n",
            "label           0\n",
            "text_           0\n",
            "clean_review    0\n",
            "label_enc       0\n",
            "dtype: int64\n"
          ]
        }
      ]
    },
    {
      "cell_type": "code",
      "source": [
        "from sklearn.model_selection import train_test_split\n",
        "X = df['clean_review']    # preprocessed reviews\n",
        "y = df['label_enc']       # encoded labels (0 = genuine, 1 = fake)\n",
        "\n",
        "# Drop rows with NaN in the target variable\n",
        "df_cleaned = df.dropna(subset=['label_enc'])\n",
        "X = df_cleaned['clean_review']\n",
        "y = df_cleaned['label_enc']\n",
        "\n",
        "X_train, X_test, y_train, y_test = train_test_split(\n",
        "    X, y,\n",
        "    test_size=0.2,       # 20% test, 80% train\n",
        "    random_state=42,     # ensures reproducibility\n",
        "    stratify=y           # keeps same class balance in train & test\n",
        ")\n",
        "print(\"Training set size:\", X_train.shape[0])\n",
        "print(\"Test set size:\", X_test.shape[0])"
      ],
      "metadata": {
        "colab": {
          "base_uri": "https://localhost:8080/"
        },
        "id": "EgTJLxVcCCBy",
        "outputId": "10a6be5d-03d0-4646-961f-3a6e783e93ad"
      },
      "execution_count": 15,
      "outputs": [
        {
          "output_type": "stream",
          "name": "stdout",
          "text": [
            "Training set size: 32345\n",
            "Test set size: 8087\n"
          ]
        }
      ]
    },
    {
      "cell_type": "code",
      "metadata": {
        "colab": {
          "base_uri": "https://localhost:8080/"
        },
        "id": "05b93a02",
        "outputId": "21c0d05e-07f5-4e80-95a7-834f67731cf8"
      },
      "source": [
        "print(df['label'].unique())"
      ],
      "execution_count": 13,
      "outputs": [
        {
          "output_type": "stream",
          "name": "stdout",
          "text": [
            "['CG' 'OR']\n"
          ]
        }
      ]
    },
    {
      "cell_type": "code",
      "source": [
        "from sklearn.feature_extraction.text import TfidfVectorizer\n",
        "vectorizer = TfidfVectorizer(max_features=5000, stop_words='english')\n",
        "X_train_tfidf = vectorizer.fit_transform(X_train)   # learn vocab from training\n",
        "X_test_tfidf = vectorizer.transform(X_test)         # transform test with same vocab\n",
        "print(\"Train TF-IDF shape:\", X_train_tfidf.shape)\n",
        "print(\"Test TF-IDF shape:\", X_test_tfidf.shape)\n",
        "print(vectorizer.get_feature_names_out()[:20])\n"
      ],
      "metadata": {
        "colab": {
          "base_uri": "https://localhost:8080/"
        },
        "id": "DaBmxC_9D4EP",
        "outputId": "a234b6dc-399f-466b-95b1-254775f61dba"
      },
      "execution_count": 17,
      "outputs": [
        {
          "output_type": "stream",
          "name": "stdout",
          "text": [
            "Train TF-IDF shape: (32345, 5000)\n",
            "Test TF-IDF shape: (8087, 5000)\n",
            "['aa' 'aaa' 'ab' 'abandoned' 'abbey' 'ability' 'able' 'abrupt' 'abruptly'\n",
            " 'absolute' 'absolutely' 'absorb' 'absorbed' 'absorbent' 'abuse' 'abused'\n",
            " 'abusive' 'ac' 'academic' 'academy']\n"
          ]
        }
      ]
    },
    {
      "cell_type": "code",
      "source": [
        "from sklearn.naive_bayes import MultinomialNB\n",
        "from sklearn.linear_model import LogisticRegression\n",
        "\n",
        "# Initialize model\n",
        "nb_model = MultinomialNB()\n",
        "\n",
        "# Train on training data\n",
        "nb_model.fit(X_train_tfidf, y_train)\n",
        "\n",
        "# Predict on test data\n",
        "y_pred_nb = nb_model.predict(X_test_tfidf)\n",
        "\n",
        "# Evaluate\n",
        "\n",
        "print(classification_report(y_test, y_pred_nb, target_names=[\"Genuine\", \"Fake\"]))\n",
        "# Initialize model\n",
        "lr_model = LogisticRegression(max_iter=200)\n",
        "\n",
        "# Train\n",
        "lr_model.fit(X_train_tfidf, y_train)\n",
        "\n",
        "# Predict\n",
        "y_pred_lr = lr_model.predict(X_test_tfidf)\n",
        "\n",
        "# Evaluate\n",
        "\n",
        "print(classification_report(y_test, y_pred_lr, target_names=[\"Genuine\", \"Fake\"]))\n"
      ],
      "metadata": {
        "colab": {
          "base_uri": "https://localhost:8080/"
        },
        "id": "Hrv13tiKEOof",
        "outputId": "96111337-698f-4436-a08e-c9b0ace58144"
      },
      "execution_count": 24,
      "outputs": [
        {
          "output_type": "stream",
          "name": "stdout",
          "text": [
            "              precision    recall  f1-score   support\n",
            "\n",
            "     Genuine       0.81      0.87      0.84      4044\n",
            "        Fake       0.86      0.79      0.82      4043\n",
            "\n",
            "    accuracy                           0.83      8087\n",
            "   macro avg       0.83      0.83      0.83      8087\n",
            "weighted avg       0.83      0.83      0.83      8087\n",
            "\n",
            "              precision    recall  f1-score   support\n",
            "\n",
            "     Genuine       0.86      0.84      0.85      4044\n",
            "        Fake       0.84      0.86      0.85      4043\n",
            "\n",
            "    accuracy                           0.85      8087\n",
            "   macro avg       0.85      0.85      0.85      8087\n",
            "weighted avg       0.85      0.85      0.85      8087\n",
            "\n"
          ]
        }
      ]
    },
    {
      "cell_type": "code",
      "source": [
        "import joblib\n",
        "\n",
        "# Save vectorizer & model\n",
        "joblib.dump(vectorizer, \"tfidf_vectorizer.joblib\")\n",
        "joblib.dump(lr_model, \"fake_review_model.joblib\")  # or nb_model if better\n"
      ],
      "metadata": {
        "colab": {
          "base_uri": "https://localhost:8080/"
        },
        "id": "yxSvXmYAEOkP",
        "outputId": "ddc20095-a1de-470e-8c31-83aa9fd44aca"
      },
      "execution_count": 19,
      "outputs": [
        {
          "output_type": "execute_result",
          "data": {
            "text/plain": [
              "['fake_review_model.joblib']"
            ]
          },
          "metadata": {},
          "execution_count": 19
        }
      ]
    },
    {
      "cell_type": "code",
      "source": [
        "import matplotlib.pyplot as plt\n",
        "import seaborn as sns\n",
        "from sklearn.metrics import confusion_matrix, accuracy_score, classification_report\n",
        "y_pred = lr_model.predict(X_test_tfidf)  # or nb_model.predict(...)\n",
        "cm = confusion_matrix(y_test, y_pred)\n",
        "\n",
        "plt.figure(figsize=(6,4))\n",
        "sns.heatmap(cm, annot=True, fmt=\"d\", cmap=\"Blues\",\n",
        "            xticklabels=[\"Genuine\", \"Fake\"],\n",
        "            yticklabels=[\"Genuine\", \"Fake\"])\n",
        "plt.xlabel(\"Predicted\")\n",
        "plt.ylabel(\"Actual\")\n",
        "plt.title(\"Confusion Matrix\")\n",
        "plt.show()\n"
      ],
      "metadata": {
        "colab": {
          "base_uri": "https://localhost:8080/",
          "height": 410
        },
        "id": "j3p785tIE4Wo",
        "outputId": "07782a64-0ef4-42ac-fb3f-2b45e8971d75"
      },
      "execution_count": 20,
      "outputs": [
        {
          "output_type": "display_data",
          "data": {
            "text/plain": [
              "<Figure size 600x400 with 2 Axes>"
            ],
            "image/png": "[encoded data removed]"
          },
          "metadata": {}
        }
      ]
    },
    {
      "cell_type": "code",
      "source": [
        "print(\"Accuracy:\", accuracy_score(y_test, y_pred))\n",
        "print(\"\\nClassification Report:\\n\")\n",
        "print(classification_report(y_test, y_pred, target_names=[\"Genuine\", \"Fake\"]))\n"
      ],
      "metadata": {
        "colab": {
          "base_uri": "https://localhost:8080/"
        },
        "id": "g9ByWUrsFGDj",
        "outputId": "72c205ea-1c34-4b34-accf-2eae16bf60a7"
      },
      "execution_count": 21,
      "outputs": [
        {
          "output_type": "stream",
          "name": "stdout",
          "text": [
            "Accuracy: 0.8508717695066156\n",
            "\n",
            "Classification Report:\n",
            "\n",
            "              precision    recall  f1-score   support\n",
            "\n",
            "     Genuine       0.86      0.84      0.85      4044\n",
            "        Fake       0.84      0.86      0.85      4043\n",
            "\n",
            "    accuracy                           0.85      8087\n",
            "   macro avg       0.85      0.85      0.85      8087\n",
            "weighted avg       0.85      0.85      0.85      8087\n",
            "\n"
          ]
        }
      ]
    }
  ]
}